{
 "cells": [
  {
   "cell_type": "code",
   "execution_count": null,
   "metadata": {
    "id": "4uw9Xz6AzNvn"
   },
   "outputs": [],
   "source": [
    "%load_ext autoreload\n",
    "%autoreload 2"
   ]
  },
  {
   "cell_type": "markdown",
   "metadata": {},
   "source": [
    "# Introduction"
   ]
  },
  {
   "cell_type": "markdown",
   "metadata": {
    "id": "llOsx7rYHki1"
   },
   "source": [
    "## Setup"
   ]
  },
  {
   "cell_type": "code",
   "execution_count": null,
   "metadata": {},
   "outputs": [],
   "source": [
    "!jupyter nbextension enable --py widgetsnbextension"
   ]
  },
  {
   "cell_type": "code",
   "execution_count": null,
   "metadata": {
    "id": "GAzDXv4t1xdF"
   },
   "outputs": [],
   "source": [
    "import pandas as pd\n",
    "from urllib import request\n",
    "from tqdm.notebook import tqdm\n",
    "from pathlib import Path\n",
    "import yaml"
   ]
  },
  {
   "cell_type": "markdown",
   "metadata": {
    "id": "cDj4TAXvH5yu"
   },
   "source": [
    "## Download metadata file from Encode"
   ]
  },
  {
   "cell_type": "code",
   "execution_count": null,
   "metadata": {
    "colab": {
     "base_uri": "https://localhost:8080/"
    },
    "id": "Qb4mZtuezTI3",
    "outputId": "4a40792d-2dcc-46e7-f9e9-9edcfdef9300"
   },
   "outputs": [],
   "source": [
    "!wget -O metadata.tsv \"https://www.encodeproject.org/metadata/?status=released&internal_tags=ENCORE&assay_title=eCLIP&biosample_ontology.term_name=K562&biosample_ontology.term_name=HepG2&files.file_type=bed+narrowPeak&type=Experiment&files.analyses.status=released&files.preferred_default=true\""
   ]
  },
  {
   "cell_type": "code",
   "execution_count": null,
   "metadata": {
    "id": "pc8w9GAv1zcg"
   },
   "outputs": [],
   "source": [
    "metadata = pd.read_csv('metadata.tsv', sep='\\t')"
   ]
  },
  {
   "cell_type": "code",
   "execution_count": null,
   "metadata": {
    "colab": {
     "base_uri": "https://localhost:8080/",
     "height": 860
    },
    "id": "_R1faHmV17Vn",
    "outputId": "e8a3a713-63b6-4329-c1b1-8e8ef9cb8865"
   },
   "outputs": [],
   "source": [
    "metadata"
   ]
  },
  {
   "cell_type": "markdown",
   "metadata": {
    "id": "lCHm_-85D5rc"
   },
   "source": [
    "## Prepare directory structure"
   ]
  },
  {
   "cell_type": "code",
   "execution_count": null,
   "metadata": {
    "id": "fBkbae9LB2lx"
   },
   "outputs": [],
   "source": [
    "BASE_FILE_PATH = Path(\"./csv/\")\n",
    "\n",
    "# copied from https://stackoverflow.com/a/57892171\n",
    "def rm_tree(pth: Path):\n",
    "    for child in pth.iterdir():\n",
    "        if child.is_file():\n",
    "            child.unlink()\n",
    "        else:\n",
    "            rm_tree(child)\n",
    "    pth.rmdir()\n",
    "\n",
    "if BASE_FILE_PATH.exists():\n",
    "    rm_tree(BASE_FILE_PATH)\n",
    "    \n",
    "BASE_FILE_PATH.mkdir()"
   ]
  },
  {
   "cell_type": "code",
   "execution_count": null,
   "metadata": {},
   "outputs": [],
   "source": [
    "!rm metadata.tsv"
   ]
  },
  {
   "cell_type": "markdown",
   "metadata": {
    "id": "pWxOSvWNIJes"
   },
   "source": [
    "## Transform data"
   ]
  },
  {
   "cell_type": "code",
   "execution_count": null,
   "metadata": {
    "colab": {
     "base_uri": "https://localhost:8080/"
    },
    "id": "Ea0hQEp32JYo",
    "outputId": "6f1a97d4-5efa-45a0-85f0-b67610efe100"
   },
   "outputs": [],
   "source": [
    "# get all unique protein names - all of our classes\n",
    "targets = metadata['Experiment target'].unique()\n",
    "targets"
   ]
  },
  {
   "cell_type": "markdown",
   "metadata": {},
   "source": [
    "This step takes about 50 minutes on a single core machine."
   ]
  },
  {
   "cell_type": "code",
   "execution_count": null,
   "metadata": {
    "colab": {
     "base_uri": "https://localhost:8080/",
     "height": 49,
     "referenced_widgets": [
      "241b9837bc2a471f9fcad6520f2c7be6",
      "5cbdea56c4024497bbc52acb5103180f",
      "e0364314ef6a49f19901fd2b276369fe",
      "eeefa952e05e412a8d7bbd85923ea2dc",
      "1d2255b386c941f7b18a72f5aa8bd128",
      "66e5c8ea84404ed9a40ca380bd24c3a7",
      "02d3a5d8d91b4d3baa09a3161b71af41",
      "debd5dcebb004ba2b4c67f97adc660c7",
      "d8c6c7a7b528419583627cd125e0f66b",
      "e11ca5b8000e4427ad97480cba021b09",
      "7b8312b48b8b437d9bb014c14e5147ec"
     ]
    },
    "id": "TuB5J3_G3Llk",
    "outputId": "3601ea10-ed99-4262-d526-5e409d691eef"
   },
   "outputs": [],
   "source": [
    "BED_HEADER = ['chrom', 'chromStart', 'chromEnd', 'name', 'score', 'strand', 'thickStart', 'thickEnd', 'itemRgb', 'blockCount', 'blockSizes', 'blockStarts']\n",
    "ALLOWED_CHROMOSOMES = ['chr' + str(i) for i in range(1, 22)] + ['chrX', 'chrY', 'chrMT']\n",
    "\n",
    "for target in tqdm(targets):\n",
    "\n",
    "  protein_name = target[: target.index('-')]\n",
    "  rows = metadata[metadata['Experiment target'] == target]\n",
    "\n",
    "  # In general, it is not a good practice to create a DataFrame in loop by appending. \n",
    "  # But since we know that we have only one or two rows for these targets, we can use it.\n",
    "  df = pd.DataFrame([], columns=['chr', 'start', 'end', 'strand'])\n",
    "  for index, row in rows.iterrows():\n",
    "\n",
    "    local_file = row['File accession'] + '.bed.gz'\n",
    "\n",
    "    # downloading files in while-try, because network connection might break sometimes\n",
    "    success = False\n",
    "    while not success:\n",
    "      try:\n",
    "        request.urlretrieve(row['File download URL'], local_file)\n",
    "        success = True\n",
    "      except:\n",
    "        print('Problem with file ', local_file, '. Trying again.')\n",
    "    reads = pd.read_csv(local_file, sep='\\t', compression='gzip', header=None, names=BED_HEADER)\n",
    "    \n",
    "    # keep just necessary columns\n",
    "    reads = reads[['chrom', 'chromStart', 'chromEnd', 'strand']]\n",
    "    # keep just sequences from chromosomes chr1 - ch22, chrX, chrX and chrMT\n",
    "    reads = reads[reads['chrom'].isin(ALLOWED_CHROMOSOMES)]\n",
    "    # removing outliers - keep just sequences >= 20 bp and <= 100 bp\n",
    "    reads = reads[((reads['chromEnd'] - reads['chromStart']) >= 20) & ((reads['chromEnd'] - reads['chromStart']) <= 100)]\n",
    "    # rename columns\n",
    "    reads.columns = ['chr', 'start', 'end', 'strand']\n",
    "\n",
    "    # add DataFrame from current file to DataFrame from previous file\n",
    "    df = pd.concat([df, reads], ignore_index=True)\n",
    "    \n",
    "    # cleaning - delete downloaded bed file\n",
    "    Path(local_file).unlink()\n",
    "\n",
    "  # add column with name of protein\n",
    "  df['protein_name'] = protein_name\n",
    "\n",
    "  filename = protein_name + '.csv.gz'\n",
    "  df.to_csv(BASE_FILE_PATH / filename, index=False, compression='gzip')"
   ]
  },
  {
   "cell_type": "markdown",
   "metadata": {
    "id": "pG5ppwXZFLm2"
   },
   "source": [
    "## YAML file"
   ]
  },
  {
   "cell_type": "code",
   "execution_count": null,
   "metadata": {
    "colab": {
     "base_uri": "https://localhost:8080/"
    },
    "id": "JndiLfH7FJpX",
    "outputId": "f93eb82f-3e79-4535-95f4-5ab93854bf6f"
   },
   "outputs": [],
   "source": [
    "# YAML file with metadata\n",
    "# we store paths of reference fasta files\n",
    "\n",
    "desc = {\n",
    "  'version': 0,\n",
    "  'classes': {}\n",
    "}\n",
    "for target in targets:\n",
    "  name = target[: target.index('-')]\n",
    "  desc['classes'][name] = {\n",
    "      'type': 'fa.gz',\n",
    "      'url': 'http://ftp.ensembl.org/pub/release-97/fasta/homo_sapiens/dna/Homo_sapiens.GRCh38.dna.toplevel.fa.gz',\n",
    "      'extra_processing': 'ENSEMBL_HUMAN_GENOME'\n",
    "  }\n",
    "\n",
    "with open(BASE_FILE_PATH / 'metadata.yaml', 'w') as fw:    \n",
    "    yaml.dump(desc, fw)\n",
    "\n",
    "desc"
   ]
  }
 ],
 "metadata": {
  "colab": {
   "name": "create_datasets.ipynb",
   "provenance": []
  },
  "kernelspec": {
   "display_name": "Python 3 (ipykernel)",
   "language": "python",
   "name": "python3"
  },
  "language_info": {
   "codemirror_mode": {
    "name": "ipython",
    "version": 3
   },
   "file_extension": ".py",
   "mimetype": "text/x-python",
   "name": "python",
   "nbconvert_exporter": "python",
   "pygments_lexer": "ipython3",
   "version": "3.11.1"
  },
  "widgets": {
   "application/vnd.jupyter.widget-state+json": {
    "02d3a5d8d91b4d3baa09a3161b71af41": {
     "model_module": "@jupyter-widgets/base",
     "model_module_version": "1.2.0",
     "model_name": "LayoutModel",
     "state": {
      "_model_module": "@jupyter-widgets/base",
      "_model_module_version": "1.2.0",
      "_model_name": "LayoutModel",
      "_view_count": null,
      "_view_module": "@jupyter-widgets/base",
      "_view_module_version": "1.2.0",
      "_view_name": "LayoutView",
      "align_content": null,
      "align_items": null,
      "align_self": null,
      "border": null,
      "bottom": null,
      "display": null,
      "flex": null,
      "flex_flow": null,
      "grid_area": null,
      "grid_auto_columns": null,
      "grid_auto_flow": null,
      "grid_auto_rows": null,
      "grid_column": null,
      "grid_gap": null,
      "grid_row": null,
      "grid_template_areas": null,
      "grid_template_columns": null,
      "grid_template_rows": null,
      "height": null,
      "justify_content": null,
      "justify_items": null,
      "left": null,
      "margin": null,
      "max_height": null,
      "max_width": null,
      "min_height": null,
      "min_width": null,
      "object_fit": null,
      "object_position": null,
      "order": null,
      "overflow": null,
      "overflow_x": null,
      "overflow_y": null,
      "padding": null,
      "right": null,
      "top": null,
      "visibility": null,
      "width": null
     }
    },
    "1d2255b386c941f7b18a72f5aa8bd128": {
     "model_module": "@jupyter-widgets/controls",
     "model_module_version": "1.5.0",
     "model_name": "HTMLModel",
     "state": {
      "_dom_classes": [],
      "_model_module": "@jupyter-widgets/controls",
      "_model_module_version": "1.5.0",
      "_model_name": "HTMLModel",
      "_view_count": null,
      "_view_module": "@jupyter-widgets/controls",
      "_view_module_version": "1.5.0",
      "_view_name": "HTMLView",
      "description": "",
      "description_tooltip": null,
      "layout": "IPY_MODEL_7b8312b48b8b437d9bb014c14e5147ec",
      "placeholder": "​",
      "style": "IPY_MODEL_e11ca5b8000e4427ad97480cba021b09",
      "value": " 150/150 [10:10&lt;00:00,  2.76s/it]"
     }
    },
    "241b9837bc2a471f9fcad6520f2c7be6": {
     "model_module": "@jupyter-widgets/controls",
     "model_module_version": "1.5.0",
     "model_name": "HBoxModel",
     "state": {
      "_dom_classes": [],
      "_model_module": "@jupyter-widgets/controls",
      "_model_module_version": "1.5.0",
      "_model_name": "HBoxModel",
      "_view_count": null,
      "_view_module": "@jupyter-widgets/controls",
      "_view_module_version": "1.5.0",
      "_view_name": "HBoxView",
      "box_style": "",
      "children": [
       "IPY_MODEL_e0364314ef6a49f19901fd2b276369fe",
       "IPY_MODEL_eeefa952e05e412a8d7bbd85923ea2dc",
       "IPY_MODEL_1d2255b386c941f7b18a72f5aa8bd128"
      ],
      "layout": "IPY_MODEL_5cbdea56c4024497bbc52acb5103180f"
     }
    },
    "5cbdea56c4024497bbc52acb5103180f": {
     "model_module": "@jupyter-widgets/base",
     "model_module_version": "1.2.0",
     "model_name": "LayoutModel",
     "state": {
      "_model_module": "@jupyter-widgets/base",
      "_model_module_version": "1.2.0",
      "_model_name": "LayoutModel",
      "_view_count": null,
      "_view_module": "@jupyter-widgets/base",
      "_view_module_version": "1.2.0",
      "_view_name": "LayoutView",
      "align_content": null,
      "align_items": null,
      "align_self": null,
      "border": null,
      "bottom": null,
      "display": null,
      "flex": null,
      "flex_flow": null,
      "grid_area": null,
      "grid_auto_columns": null,
      "grid_auto_flow": null,
      "grid_auto_rows": null,
      "grid_column": null,
      "grid_gap": null,
      "grid_row": null,
      "grid_template_areas": null,
      "grid_template_columns": null,
      "grid_template_rows": null,
      "height": null,
      "justify_content": null,
      "justify_items": null,
      "left": null,
      "margin": null,
      "max_height": null,
      "max_width": null,
      "min_height": null,
      "min_width": null,
      "object_fit": null,
      "object_position": null,
      "order": null,
      "overflow": null,
      "overflow_x": null,
      "overflow_y": null,
      "padding": null,
      "right": null,
      "top": null,
      "visibility": null,
      "width": null
     }
    },
    "66e5c8ea84404ed9a40ca380bd24c3a7": {
     "model_module": "@jupyter-widgets/controls",
     "model_module_version": "1.5.0",
     "model_name": "DescriptionStyleModel",
     "state": {
      "_model_module": "@jupyter-widgets/controls",
      "_model_module_version": "1.5.0",
      "_model_name": "DescriptionStyleModel",
      "_view_count": null,
      "_view_module": "@jupyter-widgets/base",
      "_view_module_version": "1.2.0",
      "_view_name": "StyleView",
      "description_width": ""
     }
    },
    "7b8312b48b8b437d9bb014c14e5147ec": {
     "model_module": "@jupyter-widgets/base",
     "model_module_version": "1.2.0",
     "model_name": "LayoutModel",
     "state": {
      "_model_module": "@jupyter-widgets/base",
      "_model_module_version": "1.2.0",
      "_model_name": "LayoutModel",
      "_view_count": null,
      "_view_module": "@jupyter-widgets/base",
      "_view_module_version": "1.2.0",
      "_view_name": "LayoutView",
      "align_content": null,
      "align_items": null,
      "align_self": null,
      "border": null,
      "bottom": null,
      "display": null,
      "flex": null,
      "flex_flow": null,
      "grid_area": null,
      "grid_auto_columns": null,
      "grid_auto_flow": null,
      "grid_auto_rows": null,
      "grid_column": null,
      "grid_gap": null,
      "grid_row": null,
      "grid_template_areas": null,
      "grid_template_columns": null,
      "grid_template_rows": null,
      "height": null,
      "justify_content": null,
      "justify_items": null,
      "left": null,
      "margin": null,
      "max_height": null,
      "max_width": null,
      "min_height": null,
      "min_width": null,
      "object_fit": null,
      "object_position": null,
      "order": null,
      "overflow": null,
      "overflow_x": null,
      "overflow_y": null,
      "padding": null,
      "right": null,
      "top": null,
      "visibility": null,
      "width": null
     }
    },
    "d8c6c7a7b528419583627cd125e0f66b": {
     "model_module": "@jupyter-widgets/base",
     "model_module_version": "1.2.0",
     "model_name": "LayoutModel",
     "state": {
      "_model_module": "@jupyter-widgets/base",
      "_model_module_version": "1.2.0",
      "_model_name": "LayoutModel",
      "_view_count": null,
      "_view_module": "@jupyter-widgets/base",
      "_view_module_version": "1.2.0",
      "_view_name": "LayoutView",
      "align_content": null,
      "align_items": null,
      "align_self": null,
      "border": null,
      "bottom": null,
      "display": null,
      "flex": null,
      "flex_flow": null,
      "grid_area": null,
      "grid_auto_columns": null,
      "grid_auto_flow": null,
      "grid_auto_rows": null,
      "grid_column": null,
      "grid_gap": null,
      "grid_row": null,
      "grid_template_areas": null,
      "grid_template_columns": null,
      "grid_template_rows": null,
      "height": null,
      "justify_content": null,
      "justify_items": null,
      "left": null,
      "margin": null,
      "max_height": null,
      "max_width": null,
      "min_height": null,
      "min_width": null,
      "object_fit": null,
      "object_position": null,
      "order": null,
      "overflow": null,
      "overflow_x": null,
      "overflow_y": null,
      "padding": null,
      "right": null,
      "top": null,
      "visibility": null,
      "width": null
     }
    },
    "debd5dcebb004ba2b4c67f97adc660c7": {
     "model_module": "@jupyter-widgets/controls",
     "model_module_version": "1.5.0",
     "model_name": "ProgressStyleModel",
     "state": {
      "_model_module": "@jupyter-widgets/controls",
      "_model_module_version": "1.5.0",
      "_model_name": "ProgressStyleModel",
      "_view_count": null,
      "_view_module": "@jupyter-widgets/base",
      "_view_module_version": "1.2.0",
      "_view_name": "StyleView",
      "bar_color": null,
      "description_width": ""
     }
    },
    "e0364314ef6a49f19901fd2b276369fe": {
     "model_module": "@jupyter-widgets/controls",
     "model_module_version": "1.5.0",
     "model_name": "HTMLModel",
     "state": {
      "_dom_classes": [],
      "_model_module": "@jupyter-widgets/controls",
      "_model_module_version": "1.5.0",
      "_model_name": "HTMLModel",
      "_view_count": null,
      "_view_module": "@jupyter-widgets/controls",
      "_view_module_version": "1.5.0",
      "_view_name": "HTMLView",
      "description": "",
      "description_tooltip": null,
      "layout": "IPY_MODEL_02d3a5d8d91b4d3baa09a3161b71af41",
      "placeholder": "​",
      "style": "IPY_MODEL_66e5c8ea84404ed9a40ca380bd24c3a7",
      "value": "100%"
     }
    },
    "e11ca5b8000e4427ad97480cba021b09": {
     "model_module": "@jupyter-widgets/controls",
     "model_module_version": "1.5.0",
     "model_name": "DescriptionStyleModel",
     "state": {
      "_model_module": "@jupyter-widgets/controls",
      "_model_module_version": "1.5.0",
      "_model_name": "DescriptionStyleModel",
      "_view_count": null,
      "_view_module": "@jupyter-widgets/base",
      "_view_module_version": "1.2.0",
      "_view_name": "StyleView",
      "description_width": ""
     }
    },
    "eeefa952e05e412a8d7bbd85923ea2dc": {
     "model_module": "@jupyter-widgets/controls",
     "model_module_version": "1.5.0",
     "model_name": "FloatProgressModel",
     "state": {
      "_dom_classes": [],
      "_model_module": "@jupyter-widgets/controls",
      "_model_module_version": "1.5.0",
      "_model_name": "FloatProgressModel",
      "_view_count": null,
      "_view_module": "@jupyter-widgets/controls",
      "_view_module_version": "1.5.0",
      "_view_name": "ProgressView",
      "bar_style": "success",
      "description": "",
      "description_tooltip": null,
      "layout": "IPY_MODEL_d8c6c7a7b528419583627cd125e0f66b",
      "max": 150,
      "min": 0,
      "orientation": "horizontal",
      "style": "IPY_MODEL_debd5dcebb004ba2b4c67f97adc660c7",
      "value": 150
     }
    }
   }
  }
 },
 "nbformat": 4,
 "nbformat_minor": 1
}
